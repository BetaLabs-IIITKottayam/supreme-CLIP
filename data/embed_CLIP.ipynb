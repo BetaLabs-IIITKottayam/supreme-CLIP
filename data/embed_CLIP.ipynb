{
  "nbformat": 4,
  "nbformat_minor": 0,
  "metadata": {
    "colab": {
      "name": "embed_CLIP",
      "provenance": [],
      "collapsed_sections": [],
      "authorship_tag": "ABX9TyO/2bX1rHLGgqx5OOMCYt+j",
      "include_colab_link": true
    },
    "kernelspec": {
      "name": "python3",
      "display_name": "Python 3"
    },
    "language_info": {
      "name": "python"
    },
    "accelerator": "GPU",
    "widgets": {
      "application/vnd.jupyter.widget-state+json": {
        "37bb3dff7b224e91b3b9be8886d4df95": {
          "model_module": "@jupyter-widgets/controls",
          "model_name": "HBoxModel",
          "model_module_version": "1.5.0",
          "state": {
            "_view_name": "HBoxView",
            "_dom_classes": [],
            "_model_name": "HBoxModel",
            "_view_module": "@jupyter-widgets/controls",
            "_model_module_version": "1.5.0",
            "_view_count": null,
            "_view_module_version": "1.5.0",
            "box_style": "",
            "layout": "IPY_MODEL_a6d61d8d61e54392b34ac3b8aa4db7ca",
            "_model_module": "@jupyter-widgets/controls",
            "children": [
              "IPY_MODEL_aac80c8989a0426382924d025bf42ad0",
              "IPY_MODEL_29da8a87c83940dc845943eebad913ba",
              "IPY_MODEL_1e2e929dde5547729c22392b6752473f"
            ]
          }
        },
        "a6d61d8d61e54392b34ac3b8aa4db7ca": {
          "model_module": "@jupyter-widgets/base",
          "model_name": "LayoutModel",
          "model_module_version": "1.2.0",
          "state": {
            "_view_name": "LayoutView",
            "grid_template_rows": null,
            "right": null,
            "justify_content": null,
            "_view_module": "@jupyter-widgets/base",
            "overflow": null,
            "_model_module_version": "1.2.0",
            "_view_count": null,
            "flex_flow": null,
            "width": null,
            "min_width": null,
            "border": null,
            "align_items": null,
            "bottom": null,
            "_model_module": "@jupyter-widgets/base",
            "top": null,
            "grid_column": null,
            "overflow_y": null,
            "overflow_x": null,
            "grid_auto_flow": null,
            "grid_area": null,
            "grid_template_columns": null,
            "flex": null,
            "_model_name": "LayoutModel",
            "justify_items": null,
            "grid_row": null,
            "max_height": null,
            "align_content": null,
            "visibility": null,
            "align_self": null,
            "height": null,
            "min_height": null,
            "padding": null,
            "grid_auto_rows": null,
            "grid_gap": null,
            "max_width": null,
            "order": null,
            "_view_module_version": "1.2.0",
            "grid_template_areas": null,
            "object_position": null,
            "object_fit": null,
            "grid_auto_columns": null,
            "margin": null,
            "display": null,
            "left": null
          }
        },
        "aac80c8989a0426382924d025bf42ad0": {
          "model_module": "@jupyter-widgets/controls",
          "model_name": "HTMLModel",
          "model_module_version": "1.5.0",
          "state": {
            "_view_name": "HTMLView",
            "style": "IPY_MODEL_a11e2596547d4a1f8597de255765f861",
            "_dom_classes": [],
            "description": "",
            "_model_name": "HTMLModel",
            "placeholder": "​",
            "_view_module": "@jupyter-widgets/controls",
            "_model_module_version": "1.5.0",
            "value": "",
            "_view_count": null,
            "_view_module_version": "1.5.0",
            "description_tooltip": null,
            "_model_module": "@jupyter-widgets/controls",
            "layout": "IPY_MODEL_bddb59d967f44b749ddae2107823141d"
          }
        },
        "29da8a87c83940dc845943eebad913ba": {
          "model_module": "@jupyter-widgets/controls",
          "model_name": "FloatProgressModel",
          "model_module_version": "1.5.0",
          "state": {
            "_view_name": "ProgressView",
            "style": "IPY_MODEL_1b7557511c654e87af0e36008b96e812",
            "_dom_classes": [],
            "description": "",
            "_model_name": "FloatProgressModel",
            "bar_style": "success",
            "max": 632351052,
            "_view_module": "@jupyter-widgets/controls",
            "_model_module_version": "1.5.0",
            "value": 632351052,
            "_view_count": null,
            "_view_module_version": "1.5.0",
            "orientation": "horizontal",
            "min": 0,
            "description_tooltip": null,
            "_model_module": "@jupyter-widgets/controls",
            "layout": "IPY_MODEL_59190892d78c40939377208cbe95fb5e"
          }
        },
        "1e2e929dde5547729c22392b6752473f": {
          "model_module": "@jupyter-widgets/controls",
          "model_name": "HTMLModel",
          "model_module_version": "1.5.0",
          "state": {
            "_view_name": "HTMLView",
            "style": "IPY_MODEL_fc27bbf1c2704ba59f402cc505404066",
            "_dom_classes": [],
            "description": "",
            "_model_name": "HTMLModel",
            "placeholder": "​",
            "_view_module": "@jupyter-widgets/controls",
            "_model_module_version": "1.5.0",
            "value": " 632351744/? [00:42&lt;00:00, 15715529.09it/s]",
            "_view_count": null,
            "_view_module_version": "1.5.0",
            "description_tooltip": null,
            "_model_module": "@jupyter-widgets/controls",
            "layout": "IPY_MODEL_c70e06f588844dd2a843ab6702ae2e4b"
          }
        },
        "a11e2596547d4a1f8597de255765f861": {
          "model_module": "@jupyter-widgets/controls",
          "model_name": "DescriptionStyleModel",
          "model_module_version": "1.5.0",
          "state": {
            "_view_name": "StyleView",
            "_model_name": "DescriptionStyleModel",
            "description_width": "",
            "_view_module": "@jupyter-widgets/base",
            "_model_module_version": "1.5.0",
            "_view_count": null,
            "_view_module_version": "1.2.0",
            "_model_module": "@jupyter-widgets/controls"
          }
        },
        "bddb59d967f44b749ddae2107823141d": {
          "model_module": "@jupyter-widgets/base",
          "model_name": "LayoutModel",
          "model_module_version": "1.2.0",
          "state": {
            "_view_name": "LayoutView",
            "grid_template_rows": null,
            "right": null,
            "justify_content": null,
            "_view_module": "@jupyter-widgets/base",
            "overflow": null,
            "_model_module_version": "1.2.0",
            "_view_count": null,
            "flex_flow": null,
            "width": null,
            "min_width": null,
            "border": null,
            "align_items": null,
            "bottom": null,
            "_model_module": "@jupyter-widgets/base",
            "top": null,
            "grid_column": null,
            "overflow_y": null,
            "overflow_x": null,
            "grid_auto_flow": null,
            "grid_area": null,
            "grid_template_columns": null,
            "flex": null,
            "_model_name": "LayoutModel",
            "justify_items": null,
            "grid_row": null,
            "max_height": null,
            "align_content": null,
            "visibility": null,
            "align_self": null,
            "height": null,
            "min_height": null,
            "padding": null,
            "grid_auto_rows": null,
            "grid_gap": null,
            "max_width": null,
            "order": null,
            "_view_module_version": "1.2.0",
            "grid_template_areas": null,
            "object_position": null,
            "object_fit": null,
            "grid_auto_columns": null,
            "margin": null,
            "display": null,
            "left": null
          }
        },
        "1b7557511c654e87af0e36008b96e812": {
          "model_module": "@jupyter-widgets/controls",
          "model_name": "ProgressStyleModel",
          "model_module_version": "1.5.0",
          "state": {
            "_view_name": "StyleView",
            "_model_name": "ProgressStyleModel",
            "description_width": "",
            "_view_module": "@jupyter-widgets/base",
            "_model_module_version": "1.5.0",
            "_view_count": null,
            "_view_module_version": "1.2.0",
            "bar_color": null,
            "_model_module": "@jupyter-widgets/controls"
          }
        },
        "59190892d78c40939377208cbe95fb5e": {
          "model_module": "@jupyter-widgets/base",
          "model_name": "LayoutModel",
          "model_module_version": "1.2.0",
          "state": {
            "_view_name": "LayoutView",
            "grid_template_rows": null,
            "right": null,
            "justify_content": null,
            "_view_module": "@jupyter-widgets/base",
            "overflow": null,
            "_model_module_version": "1.2.0",
            "_view_count": null,
            "flex_flow": null,
            "width": null,
            "min_width": null,
            "border": null,
            "align_items": null,
            "bottom": null,
            "_model_module": "@jupyter-widgets/base",
            "top": null,
            "grid_column": null,
            "overflow_y": null,
            "overflow_x": null,
            "grid_auto_flow": null,
            "grid_area": null,
            "grid_template_columns": null,
            "flex": null,
            "_model_name": "LayoutModel",
            "justify_items": null,
            "grid_row": null,
            "max_height": null,
            "align_content": null,
            "visibility": null,
            "align_self": null,
            "height": null,
            "min_height": null,
            "padding": null,
            "grid_auto_rows": null,
            "grid_gap": null,
            "max_width": null,
            "order": null,
            "_view_module_version": "1.2.0",
            "grid_template_areas": null,
            "object_position": null,
            "object_fit": null,
            "grid_auto_columns": null,
            "margin": null,
            "display": null,
            "left": null
          }
        },
        "fc27bbf1c2704ba59f402cc505404066": {
          "model_module": "@jupyter-widgets/controls",
          "model_name": "DescriptionStyleModel",
          "model_module_version": "1.5.0",
          "state": {
            "_view_name": "StyleView",
            "_model_name": "DescriptionStyleModel",
            "description_width": "",
            "_view_module": "@jupyter-widgets/base",
            "_model_module_version": "1.5.0",
            "_view_count": null,
            "_view_module_version": "1.2.0",
            "_model_module": "@jupyter-widgets/controls"
          }
        },
        "c70e06f588844dd2a843ab6702ae2e4b": {
          "model_module": "@jupyter-widgets/base",
          "model_name": "LayoutModel",
          "model_module_version": "1.2.0",
          "state": {
            "_view_name": "LayoutView",
            "grid_template_rows": null,
            "right": null,
            "justify_content": null,
            "_view_module": "@jupyter-widgets/base",
            "overflow": null,
            "_model_module_version": "1.2.0",
            "_view_count": null,
            "flex_flow": null,
            "width": null,
            "min_width": null,
            "border": null,
            "align_items": null,
            "bottom": null,
            "_model_module": "@jupyter-widgets/base",
            "top": null,
            "grid_column": null,
            "overflow_y": null,
            "overflow_x": null,
            "grid_auto_flow": null,
            "grid_area": null,
            "grid_template_columns": null,
            "flex": null,
            "_model_name": "LayoutModel",
            "justify_items": null,
            "grid_row": null,
            "max_height": null,
            "align_content": null,
            "visibility": null,
            "align_self": null,
            "height": null,
            "min_height": null,
            "padding": null,
            "grid_auto_rows": null,
            "grid_gap": null,
            "max_width": null,
            "order": null,
            "_view_module_version": "1.2.0",
            "grid_template_areas": null,
            "object_position": null,
            "object_fit": null,
            "grid_auto_columns": null,
            "margin": null,
            "display": null,
            "left": null
          }
        }
      }
    }
  },
  "cells": [
    {
      "cell_type": "markdown",
      "metadata": {
        "id": "view-in-github",
        "colab_type": "text"
      },
      "source": [
        "<a href=\"https://colab.research.google.com/github/nikhil9302/supreme-CLIP/blob/development/data/embed_CLIP.ipynb\" target=\"_parent\"><img src=\"https://colab.research.google.com/assets/colab-badge.svg\" alt=\"Open In Colab\"/></a>"
      ]
    },
    {
      "cell_type": "markdown",
      "metadata": {
        "id": "cufnMbT0AmJt"
      },
      "source": [
        "# Installing the clip module from OpenAI/CLIP repository"
      ]
    },
    {
      "cell_type": "code",
      "metadata": {
        "id": "jn4Q-F7ND7xb"
      },
      "source": [
        "! pip install git+https://github.com/openai/CLIP.git"
      ],
      "execution_count": null,
      "outputs": []
    },
    {
      "cell_type": "markdown",
      "metadata": {
        "id": "lyMcihxCAzx5"
      },
      "source": [
        "# The same extraction and manipulation of datasets followed in datasets.ipynb"
      ]
    },
    {
      "cell_type": "code",
      "metadata": {
        "id": "eo4zuaIHD_7C"
      },
      "source": [
        "import pandas as pd\n",
        "import glob\n",
        "from torchvision.datasets.utils import download_url\n",
        "from PIL import Image, ImageFile\n",
        "ImageFile.LOAD_TRUNCATED_IMAGES = True\n",
        "import requests\n",
        "import urllib.request\n",
        "from io import BytesIO"
      ],
      "execution_count": null,
      "outputs": []
    },
    {
      "cell_type": "code",
      "metadata": {
        "colab": {
          "base_uri": "https://localhost:8080/",
          "height": 68,
          "referenced_widgets": [
            "37bb3dff7b224e91b3b9be8886d4df95",
            "a6d61d8d61e54392b34ac3b8aa4db7ca",
            "aac80c8989a0426382924d025bf42ad0",
            "29da8a87c83940dc845943eebad913ba",
            "1e2e929dde5547729c22392b6752473f",
            "a11e2596547d4a1f8597de255765f861",
            "bddb59d967f44b749ddae2107823141d",
            "1b7557511c654e87af0e36008b96e812",
            "59190892d78c40939377208cbe95fb5e",
            "fc27bbf1c2704ba59f402cc505404066",
            "c70e06f588844dd2a843ab6702ae2e4b"
          ]
        },
        "id": "1Qd7Z3zRLSai",
        "outputId": "e6344096-2e84-41a4-8208-b2c10c40e9d6"
      },
      "source": [
        "dataset_url = \"https://unsplash.com/data/lite/latest\"\n",
        "download_url(dataset_url, '.')"
      ],
      "execution_count": null,
      "outputs": [
        {
          "output_type": "stream",
          "name": "stdout",
          "text": [
            "Downloading https://unsplash-datasets.s3.amazonaws.com/lite/latest/unsplash-research-dataset-lite-latest.zip to ./latest\n"
          ]
        },
        {
          "output_type": "display_data",
          "data": {
            "application/vnd.jupyter.widget-view+json": {
              "model_id": "37bb3dff7b224e91b3b9be8886d4df95",
              "version_minor": 0,
              "version_major": 2
            },
            "text/plain": [
              "  0%|          | 0/632351052 [00:00<?, ?it/s]"
            ]
          },
          "metadata": {}
        }
      ]
    },
    {
      "cell_type": "code",
      "metadata": {
        "id": "FTTnDGfdLXl5"
      },
      "source": [
        "!unzip '/content/latest' -d '/content'"
      ],
      "execution_count": null,
      "outputs": []
    },
    {
      "cell_type": "code",
      "metadata": {
        "id": "9UkQ1Gs8FGZs"
      },
      "source": [
        "path = './'\n",
        "documents = ['photos', 'keywords']\n",
        "datasets = {}\n",
        "\n",
        "for doc in documents:\n",
        "  files = glob.glob(path + doc + \".tsv*\")\n",
        "\n",
        "  subsets = []\n",
        "  for filename in files:\n",
        "    df = pd.read_csv(filename, sep='\\t', header=0)\n",
        "    subsets.append(df)\n",
        "\n",
        "  datasets[doc] = pd.concat(subsets, axis=0, ignore_index=True)"
      ],
      "execution_count": null,
      "outputs": []
    },
    {
      "cell_type": "code",
      "metadata": {
        "id": "1ryl-e0tLzk1"
      },
      "source": [
        "url = []\n",
        "photoID = []\n",
        "for i in range(0,25000): \n",
        "   url.append(datasets['photos'].photo_image_url[i])\n",
        "   photoID.append(datasets['photos'].photo_id[i])"
      ],
      "execution_count": null,
      "outputs": []
    },
    {
      "cell_type": "markdown",
      "metadata": {
        "id": "WJVyP3iEBLEV"
      },
      "source": [
        "### Here binary search(BinSearch) is used instead of the built-in index() function for better execution time and optimization"
      ]
    },
    {
      "cell_type": "code",
      "metadata": {
        "id": "0DznZkN4MpCa"
      },
      "source": [
        "# takes 28 to 30 sec\n",
        "from bisect import bisect_left\n",
        "def BinSearch(a, x):\n",
        "   i = bisect_left(a, x)\n",
        "   if i != len(a) and a[i] == x:\n",
        "      return i\n",
        "   else:\n",
        "      return -1\n",
        "\n",
        "key_photoID = list(datasets['keywords'].photo_id)\n",
        "key_photoID.sort()\n",
        "photoID_tag = {new_list: [] for new_list in range(25000)}\n",
        "\n",
        "for i in range(0,25000):\n",
        "    ind = BinSearch(key_photoID, photoID[i])\n",
        "    while(ind!=-1 and ind!=len(key_photoID) and key_photoID[ind]==photoID[i]):\n",
        "      photoID_tag[i].append(datasets['keywords'].keyword[ind])\n",
        "      ind =ind + 1"
      ],
      "execution_count": null,
      "outputs": []
    },
    {
      "cell_type": "markdown",
      "metadata": {
        "id": "phNk5PfYvBSN"
      },
      "source": [
        "# To extract the tensor from the CLIP model and add it to a dictionary with our other extracted attributes from the datasets\n"
      ]
    },
    {
      "cell_type": "code",
      "metadata": {
        "id": "W0i1SvdEEGvl",
        "colab": {
          "base_uri": "https://localhost:8080/"
        },
        "outputId": "10fd17a0-b409-43db-c448-0f7d2e772e89"
      },
      "source": [
        "import torch\n",
        "import clip\n",
        "from torch.utils.data import Dataset, DataLoader\n",
        "\n",
        "class DatasetFeeder(Dataset):\n",
        "    def __init__(self, url, preprocess, model, photoID):\n",
        "        super().__init__()\n",
        "        self.url = url\n",
        "        self.preprocess = preprocess \n",
        "\n",
        "    def __len__(self):\n",
        "        return len(self.url)\n",
        "\n",
        "    def __getitem__(self, idx):\n",
        "        if self.preprocess is not None:\n",
        "          try: \n",
        "            image = self.preprocess(\n",
        "                Image.open(\n",
        "                    BytesIO(requests.get(url[idx]).content)\n",
        "                    )\n",
        "            ).unsqueeze(0).to(device)\n",
        "          except:\n",
        "            return -1  \n",
        "        with torch.no_grad():\n",
        "            image_features = model.encode_image(image) \n",
        "        return {           \n",
        "            \"image_url\": url[idx],\n",
        "            \"image_features\" : image_features,\n",
        "            \"tags\": photoID_tag[idx],\n",
        "        }\n",
        "\n",
        "device = \"cuda\" if torch.cuda.is_available() else \"cpu\"\n",
        "model, preprocess = clip.load(\"ViT-B/32\", device=device)\n",
        "\n",
        "dataset_feeder = DatasetFeeder(url, preprocess, model, photoID_tag)\n",
        "\n",
        "parent_dict = {}\n",
        "from tqdm import tqdm\n",
        "for i,j in zip(tqdm(dataset_feeder),range(25000)):\n",
        "  if(i!=-1):\n",
        "    parent_dict[photoID[j]] = i\n",
        "\n",
        "\n"
      ],
      "execution_count": null,
      "outputs": [
        {
          "output_type": "stream",
          "name": "stderr",
          "text": [
            " 11%|█         | 2654/25000 [37:40<4:02:39,  1.53it/s]/usr/local/lib/python3.7/dist-packages/PIL/Image.py:2800: DecompressionBombWarning: Image size (96012000 pixels) exceeds limit of 89478485 pixels, could be decompression bomb DOS attack.\n",
            "  DecompressionBombWarning,\n",
            " 21%|██▏       | 5318/25000 [1:26:37<6:11:16,  1.13s/it]/usr/local/lib/python3.7/dist-packages/PIL/Image.py:2800: DecompressionBombWarning: Image size (99996755 pixels) exceeds limit of 89478485 pixels, could be decompression bomb DOS attack.\n",
            "  DecompressionBombWarning,\n",
            " 25%|██▍       | 6191/25000 [1:44:24<4:27:56,  1.17it/s]/usr/local/lib/python3.7/dist-packages/PIL/Image.py:2800: DecompressionBombWarning: Image size (96768910 pixels) exceeds limit of 89478485 pixels, could be decompression bomb DOS attack.\n",
            "  DecompressionBombWarning,\n",
            " 27%|██▋       | 6697/25000 [1:54:31<7:04:43,  1.39s/it]/usr/local/lib/python3.7/dist-packages/PIL/Image.py:2800: DecompressionBombWarning: Image size (99991727 pixels) exceeds limit of 89478485 pixels, could be decompression bomb DOS attack.\n",
            "  DecompressionBombWarning,\n",
            " 36%|███▋      | 9121/25000 [2:41:37<5:18:28,  1.20s/it]/usr/local/lib/python3.7/dist-packages/PIL/Image.py:2800: DecompressionBombWarning: Image size (143040000 pixels) exceeds limit of 89478485 pixels, could be decompression bomb DOS attack.\n",
            "  DecompressionBombWarning,\n",
            " 37%|███▋      | 9214/25000 [2:43:39<3:39:24,  1.20it/s]/usr/local/lib/python3.7/dist-packages/PIL/Image.py:2800: DecompressionBombWarning: Image size (94212096 pixels) exceeds limit of 89478485 pixels, could be decompression bomb DOS attack.\n",
            "  DecompressionBombWarning,\n",
            " 41%|████▏     | 10336/25000 [3:05:40<6:11:48,  1.52s/it]/usr/local/lib/python3.7/dist-packages/PIL/Image.py:2800: DecompressionBombWarning: Image size (121500000 pixels) exceeds limit of 89478485 pixels, could be decompression bomb DOS attack.\n",
            "  DecompressionBombWarning,\n",
            " 44%|████▍     | 11123/25000 [3:21:37<4:22:25,  1.13s/it]/usr/local/lib/python3.7/dist-packages/PIL/Image.py:2800: DecompressionBombWarning: Image size (107424768 pixels) exceeds limit of 89478485 pixels, could be decompression bomb DOS attack.\n",
            "  DecompressionBombWarning,\n",
            " 46%|████▋     | 11613/25000 [3:31:33<2:50:40,  1.31it/s]/usr/local/lib/python3.7/dist-packages/PIL/Image.py:2800: DecompressionBombWarning: Image size (147015000 pixels) exceeds limit of 89478485 pixels, could be decompression bomb DOS attack.\n",
            "  DecompressionBombWarning,\n",
            " 47%|████▋     | 11681/25000 [3:32:55<4:28:06,  1.21s/it]/usr/local/lib/python3.7/dist-packages/PIL/Image.py:2800: DecompressionBombWarning: Image size (107184040 pixels) exceeds limit of 89478485 pixels, could be decompression bomb DOS attack.\n",
            "  DecompressionBombWarning,\n",
            " 51%|█████     | 12687/25000 [3:53:09<5:26:56,  1.59s/it]/usr/local/lib/python3.7/dist-packages/PIL/Image.py:2800: DecompressionBombWarning: Image size (146784000 pixels) exceeds limit of 89478485 pixels, could be decompression bomb DOS attack.\n",
            "  DecompressionBombWarning,\n",
            " 54%|█████▍    | 13438/25000 [4:07:53<3:14:52,  1.01s/it]/usr/local/lib/python3.7/dist-packages/PIL/Image.py:2800: DecompressionBombWarning: Image size (90671520 pixels) exceeds limit of 89478485 pixels, could be decompression bomb DOS attack.\n",
            "  DecompressionBombWarning,\n",
            " 63%|██████▎   | 15639/25000 [4:51:05<4:59:27,  1.92s/it]/usr/local/lib/python3.7/dist-packages/PIL/Image.py:2800: DecompressionBombWarning: Image size (99992815 pixels) exceeds limit of 89478485 pixels, could be decompression bomb DOS attack.\n",
            "  DecompressionBombWarning,\n",
            " 64%|██████▍   | 16055/25000 [4:59:34<2:10:35,  1.14it/s]/usr/local/lib/python3.7/dist-packages/PIL/Image.py:2800: DecompressionBombWarning: Image size (95808000 pixels) exceeds limit of 89478485 pixels, could be decompression bomb DOS attack.\n",
            "  DecompressionBombWarning,\n",
            " 67%|██████▋   | 16820/25000 [5:14:31<2:15:33,  1.01it/s]/usr/local/lib/python3.7/dist-packages/PIL/Image.py:2800: DecompressionBombWarning: Image size (121554000 pixels) exceeds limit of 89478485 pixels, could be decompression bomb DOS attack.\n",
            "  DecompressionBombWarning,\n",
            " 69%|██████▉   | 17262/25000 [5:23:09<2:46:30,  1.29s/it]/usr/local/lib/python3.7/dist-packages/PIL/Image.py:2800: DecompressionBombWarning: Image size (91177320 pixels) exceeds limit of 89478485 pixels, could be decompression bomb DOS attack.\n",
            "  DecompressionBombWarning,\n",
            " 69%|██████▉   | 17351/25000 [5:24:56<2:30:15,  1.18s/it]/usr/local/lib/python3.7/dist-packages/PIL/Image.py:2800: DecompressionBombWarning: Image size (99996120 pixels) exceeds limit of 89478485 pixels, could be decompression bomb DOS attack.\n",
            "  DecompressionBombWarning,\n",
            " 87%|████████▋ | 21753/25000 [6:53:57<1:12:10,  1.33s/it]/usr/local/lib/python3.7/dist-packages/PIL/Image.py:2800: DecompressionBombWarning: Image size (96000000 pixels) exceeds limit of 89478485 pixels, could be decompression bomb DOS attack.\n",
            "  DecompressionBombWarning,\n",
            " 97%|█████████▋| 24324/25000 [7:45:36<17:31,  1.56s/it]/usr/local/lib/python3.7/dist-packages/PIL/Image.py:2800: DecompressionBombWarning: Image size (98058240 pixels) exceeds limit of 89478485 pixels, could be decompression bomb DOS attack.\n",
            "  DecompressionBombWarning,\n",
            "100%|██████████| 25000/25000 [7:59:27<00:00,  1.15s/it]\n"
          ]
        }
      ]
    },
    {
      "cell_type": "markdown",
      "metadata": {
        "id": "bHZ795-1wjZ5"
      },
      "source": [
        "### Since we want data.json file for the NoSQL datbase, we should convert all of the non JSON serializable Objects to serializable Objects i.e we have to convert the tensor of image_features to a list. Since numpy is faster, we first convert tensor to numpy array"
      ]
    },
    {
      "cell_type": "code",
      "metadata": {
        "id": "e2i-oIB_CBz4"
      },
      "source": [
        "import numpy\n",
        "for i in parent_dict:\n",
        "    parent_dict[i]['image_features'] = parent_dict[i]['image_features'].cpu().numpy()        "
      ],
      "execution_count": null,
      "outputs": []
    },
    {
      "cell_type": "markdown",
      "metadata": {
        "id": "cn6V5Vq0uDLH"
      },
      "source": [
        "### The parent_dict pickled as \"data.p\" for later use\n",
        "Since the extraction of clip embeddings and preprocess takes time (About 7hrs), So to not lose the parent_dict extracted(with clip embeddings and other features) , it was pickled and then saved to my GDrive as a public file"
      ]
    },
    {
      "cell_type": "code",
      "metadata": {
        "id": "VqN0QATwq26q"
      },
      "source": [
        "import pickle\n",
        "parent_dict = []\n",
        "pickle.dump(parent_dict, open( \"data.p\", \"wb\" ) )"
      ],
      "execution_count": null,
      "outputs": []
    },
    {
      "cell_type": "markdown",
      "metadata": {
        "id": "h0ABX-TDrLLh"
      },
      "source": [
        "# Downloading the data.p file from Gdrive\n",
        "### If you just want to extract the data.json file then just execute these sections of codes and ignore the rest of the above colab notebook"
      ]
    },
    {
      "cell_type": "code",
      "metadata": {
        "colab": {
          "base_uri": "https://localhost:8080/"
        },
        "id": "4eqxPrZ9rdig",
        "outputId": "0c8eef28-382d-4647-d0d8-0e3b534e164a"
      },
      "source": [
        "!gdown --id 1jqNk4GOD4vGS7kKj03CXCMZpVkFD0Wlp"
      ],
      "execution_count": null,
      "outputs": [
        {
          "output_type": "stream",
          "name": "stdout",
          "text": [
            "Downloading...\n",
            "From: https://drive.google.com/uc?id=1jqNk4GOD4vGS7kKj03CXCMZpVkFD0Wlp\n",
            "To: /content/data.p\n",
            "70.3MB [00:00, 151MB/s] \n"
          ]
        }
      ]
    },
    {
      "cell_type": "markdown",
      "metadata": {
        "id": "wgy3UAVCytJb"
      },
      "source": [
        "## To load the pickle \"data.p\" back to parent_dict"
      ]
    },
    {
      "cell_type": "code",
      "metadata": {
        "id": "binf4V5wr4qz"
      },
      "source": [
        "parent_dict = pickle.load(open( \"data.p\", \"rb\" )) "
      ],
      "execution_count": null,
      "outputs": []
    },
    {
      "cell_type": "code",
      "metadata": {
        "id": "6iVorMdg4mLP"
      },
      "source": [
        "parent_dict['--2IBUMom1I']['image_features'][0]"
      ],
      "execution_count": null,
      "outputs": []
    },
    {
      "cell_type": "markdown",
      "metadata": {
        "id": "WeS2ULYk3uN7"
      },
      "source": [
        "## The dictionary extracted has parent_dict[i]['image_features'][0] is an numpy array, which should be a list for it to be JSON serializable"
      ]
    },
    {
      "cell_type": "code",
      "metadata": {
        "id": "4m89wnmsvtQF"
      },
      "source": [
        "for i in parent_dict:\n",
        "    parent_dict[i]['image_features'][0] = list(parent_dict[i]['image_features'][0])\n",
        "    img_features = parent_dict[i]['image_features'][0] \n",
        "    for j in range(len(img_features)):\n",
        "      parent_dict[i]['image_features'][0][j] = str(img_features[j])"
      ],
      "execution_count": null,
      "outputs": []
    },
    {
      "cell_type": "code",
      "metadata": {
        "id": "6dYGQLxfXTlt"
      },
      "source": [
        "parent_dict"
      ],
      "execution_count": null,
      "outputs": []
    },
    {
      "cell_type": "markdown",
      "metadata": {
        "id": "S-CfYky95P8q"
      },
      "source": [
        "### Now as the entire parent_dict is JSON serializable, we can use json.dump to load parent_dict dictionary as a JSON file in \"data.json\""
      ]
    },
    {
      "cell_type": "code",
      "metadata": {
        "id": "tDkpCQV603TN"
      },
      "source": [
        "import json\n",
        "json_object = json.dumps(parent_dict, indent = 4) \n",
        "with open(\"data.json\", \"w\") as outfile:\n",
        "    json.dump(parent_dict, outfile,indent = 4)"
      ],
      "execution_count": null,
      "outputs": []
    },
    {
      "cell_type": "markdown",
      "metadata": {
        "id": "FtqWV6p97CRG"
      },
      "source": [
        "Now you can see data.json in your colab root directory, you can download it on your PC or store it in your cloud or database"
      ]
    }
  ]
}